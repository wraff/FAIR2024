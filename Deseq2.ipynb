{
 "cells": [
  {
   "cell_type": "markdown",
   "id": "e3aa95d2-7837-4d38-ab5f-a03c2e0fe20e",
   "metadata": {},
   "source": [
    "# My R notebook\n",
    "## Load library"
   ]
  },
  {
   "cell_type": "code",
   "execution_count": null,
   "id": "1ee8a54e-eb8c-4c28-b8e3-e05a706ff501",
   "metadata": {},
   "outputs": [],
   "source": [
    "library(DESeq2)"
   ]
  },
  {
   "cell_type": "markdown",
   "id": "1c2f3c7b-bb1a-4224-93bf-aac5fc044ea4",
   "metadata": {},
   "source": [
    "## Read data"
   ]
  },
  {
   "cell_type": "code",
   "execution_count": null,
   "id": "0cc1eea4-5072-4914-bde6-99caa74615b0",
   "metadata": {},
   "outputs": [],
   "source": [
    "cts <- read.table(\"counts.txt\", sep=\"\\t\",row.names=1)\n",
    "colnames(cts) = c(paste0(\"condition1_\",1:3),paste0(\"condition2_\",1:3))\n",
    "head(cts)"
   ]
  },
  {
   "cell_type": "markdown",
   "id": "90f284e6-6cf2-43ff-afea-80648230700e",
   "metadata": {},
   "source": [
    "## Experimental data preparation"
   ]
  },
  {
   "cell_type": "code",
   "execution_count": null,
   "id": "eb409b2b-fac1-491f-973b-abaabadf7b45",
   "metadata": {},
   "outputs": [],
   "source": [
    "coldata = cbind.data.frame(condition= c(rep(\"condition1\", 3),rep(\"condition2\", 3)))\n",
    "rownames(coldata) = c(paste0(\"condition1_\",1:3),paste0(\"condition2_\",1:3))\n",
    "head(coldata)"
   ]
  },
  {
   "cell_type": "markdown",
   "id": "b52684f4-7c9b-43f4-b3b3-a8d10fe31895",
   "metadata": {},
   "source": [
    "## Deseq2"
   ]
  },
  {
   "cell_type": "code",
   "execution_count": null,
   "id": "4116039e-aaed-4545-b3cc-81155116cc8e",
   "metadata": {},
   "outputs": [],
   "source": [
    "dds <- DESeqDataSetFromMatrix(countData = cts,\n",
    "                              colData = coldata ,\n",
    "                              design= ~ condition)\n",
    "dds <- DESeq(dds)\n",
    "resultsNames(dds) # lists the coefficients"
   ]
  },
  {
   "cell_type": "markdown",
   "id": "8dc8d18c-59d8-4a13-a5fe-aff4993973cb",
   "metadata": {},
   "source": [
    "## Get results"
   ]
  },
  {
   "cell_type": "code",
   "execution_count": null,
   "id": "25a03159-052e-4aeb-ab54-a68876d43926",
   "metadata": {},
   "outputs": [],
   "source": [
    "res <- results(dds, name=\"condition_condition2_vs_condition1\")\n",
    "res"
   ]
  },
  {
   "cell_type": "markdown",
   "id": "efca73a4-b237-436a-8ceb-cebe57d9e547",
   "metadata": {},
   "source": [
    "## Display results"
   ]
  },
  {
   "cell_type": "code",
   "execution_count": null,
   "id": "c5f2e21f-6541-4ac8-9617-4ccff01fa16d",
   "metadata": {},
   "outputs": [],
   "source": [
    "plotMA(res, ylim=c(-2,2))"
   ]
  },
  {
   "cell_type": "markdown",
   "id": "8a6dab37-b0d1-41cb-ac81-420270b00319",
   "metadata": {},
   "source": [
    "## Export plot"
   ]
  },
  {
   "cell_type": "code",
   "execution_count": null,
   "id": "c34035f2-68ab-40e7-9b67-8d7ee0b707cd",
   "metadata": {},
   "outputs": [],
   "source": [
    "png(file = \"deseq2_demo.png\", width = 800, height = 700)\n",
    "plotMA(res, ylim=c(-2,2))\n",
    "dev.off()"
   ]
  },
  {
   "cell_type": "markdown",
   "id": "c6a4e8a1-6e12-457d-a569-07d2ea3ce083",
   "metadata": {},
   "source": [
    "## Export Data"
   ]
  },
  {
   "cell_type": "code",
   "execution_count": null,
   "id": "f8476294-43a7-42a6-97f3-4ca5c6fcaa9c",
   "metadata": {},
   "outputs": [],
   "source": [
    "write.table(res,\"deseq2_demo.tsv\", quote=F, sep=\"\\t\", col.names=T)"
   ]
  }
 ],
 "metadata": {
  "kernelspec": {
   "display_name": "R 4.2.3",
   "language": "R",
   "name": "r-4.2.3"
  },
  "language_info": {
   "codemirror_mode": "r",
   "file_extension": ".r",
   "mimetype": "text/x-r-source",
   "name": "R",
   "pygments_lexer": "r",
   "version": "4.2.3"
  }
 },
 "nbformat": 4,
 "nbformat_minor": 5
}
